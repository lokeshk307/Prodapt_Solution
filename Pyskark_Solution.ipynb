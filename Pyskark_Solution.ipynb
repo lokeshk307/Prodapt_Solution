{
 "cells": [
  {
   "cell_type": "code",
   "execution_count": 139,
   "id": "limited-fifty",
   "metadata": {},
   "outputs": [],
   "source": [
    "import pyspark\n",
    "from pyspark import SparkContext\n",
    "from pyspark.sql import SparkSession\n",
    "import glob\n",
    "from functools import reduce\n",
    "from pyspark.sql import DataFrame\n",
    "from pyspark.sql.functions import monotonically_increasing_id\n",
    "from pyspark.sql.functions import desc\n",
    "import matplotlib.pyplot as plt\n",
    "%matplotlib inline\n",
    "from pyspark.sql.types import IntegerType\n",
    "from pyspark.sql.functions import collect_set,sum,avg,max,countDistinct,count\n",
    "from pyspark.sql.functions import col,array_contains\n",
    "from pyspark.sql.functions import when\n",
    "import pandas as pd\n",
    "import numpy as np\n",
    "from matplotlib.pyplot import hist"
   ]
  },
  {
   "cell_type": "markdown",
   "id": "pressed-hopkins",
   "metadata": {},
   "source": [
    "# Step 1 - Evaluate Phy Rates at Different RSSI levels"
   ]
  },
  {
   "cell_type": "code",
   "execution_count": 92,
   "id": "corrected-electric",
   "metadata": {},
   "outputs": [],
   "source": [
    "spark = SparkSession.builder.getOrCreate()"
   ]
  },
  {
   "cell_type": "code",
   "execution_count": 93,
   "id": "finished-saskatchewan",
   "metadata": {},
   "outputs": [
    {
     "name": "stdout",
     "output_type": "stream",
     "text": [
      "(350000, 30)\n",
      "(350596, 30)\n"
     ]
    }
   ],
   "source": [
    "data_folder = r\"C:\\Users\\MC127HM\\OneDrive - EY\\Desktop\\Docs\\Personal\\Prodapt\\Assignment\\Dataset\"\n",
    "file_name = \"*\"\n",
    "file_path = data_folder + \"\\\\\" + file_name\n",
    "\n",
    "files = glob.glob(file_path)\n",
    "dfs = []\n",
    "\n",
    "for file in files:\n",
    "    df = spark.read.csv(file, header=True)\n",
    "    df = df.withColumnRenamed('_c0','sno')\n",
    "    dfs.append(df)\n",
    "    print((df.count(), len(df.columns)))\n"
   ]
  },
  {
   "cell_type": "code",
   "execution_count": 94,
   "id": "advanced-control",
   "metadata": {},
   "outputs": [
    {
     "name": "stdout",
     "output_type": "stream",
     "text": [
      "(700596, 30)\n"
     ]
    }
   ],
   "source": [
    "df_complete = reduce(DataFrame.unionAll, dfs)\n",
    "print((df_complete.count(), len(df_complete.columns)))"
   ]
  },
  {
   "cell_type": "code",
   "execution_count": 96,
   "id": "ceramic-sunglasses",
   "metadata": {},
   "outputs": [],
   "source": [
    "df_complete = df_complete.withColumn(\"rssi_percs_25\", df_complete[\"rssi_percs_25\"].cast(IntegerType()))\n",
    "df_complete = df_complete.withColumn(\"rssi_percs_75\", df_complete[\"rssi_percs_75\"].cast(IntegerType()))\n",
    "df_complete = df_complete.withColumn(\"txWeightedPhyRate\", df_complete[\"txWeightedPhyRate\"].cast(IntegerType()))\n",
    "df_complete = df_complete.withColumn(\"rxWeightedPhyRate\", df_complete[\"rxWeightedPhyRate\"].cast(IntegerType()))"
   ]
  },
  {
   "cell_type": "code",
   "execution_count": 97,
   "id": "comprehensive-psychology",
   "metadata": {},
   "outputs": [
    {
     "name": "stdout",
     "output_type": "stream",
     "text": [
      "+-------+------------------+------------------+-----------------+------------------+\n",
      "|summary|     rssi_percs_25|     rssi_percs_75|txWeightedPhyRate| rxWeightedPhyRate|\n",
      "+-------+------------------+------------------+-----------------+------------------+\n",
      "|  count|            699924|            699924|           673879|            690727|\n",
      "|   mean|-58.49826552597139|-56.93842331453129| 283.519769869665|258.50901586299653|\n",
      "| stddev|12.741807234764162|12.510865179685881|268.8097414020819| 267.9553050297518|\n",
      "|    min|               -95|               -95|                0|                 0|\n",
      "|    25%|               -67|               -66|               72|                60|\n",
      "|    50%|               -60|               -58|              144|               140|\n",
      "|    75%|               -51|               -50|              431|               404|\n",
      "|    max|                32|                32|             1300|              1300|\n",
      "+-------+------------------+------------------+-----------------+------------------+\n",
      "\n"
     ]
    }
   ],
   "source": [
    "df_complete.select('rssi_percs_25', 'rssi_percs_75', 'txWeightedPhyRate', 'rxWeightedPhyRate',).summary().show()"
   ]
  },
  {
   "cell_type": "markdown",
   "id": "bearing-scene",
   "metadata": {},
   "source": [
    "## Checking if there is any null values in the rssi and weighted phy columns and filling them with mean values"
   ]
  },
  {
   "cell_type": "code",
   "execution_count": 98,
   "id": "legendary-output",
   "metadata": {},
   "outputs": [],
   "source": [
    "avg_rssi_percs_25 = df_complete.select(avg('rssi_percs_25')).collect()[0][0]\n",
    "avg_rssi_percs_75 = df_complete.select(avg('rssi_percs_75')).collect()[0][0]\n",
    "avg_txWeightedPhyRate = df_complete.select(avg('txWeightedPhyRate')).collect()[0][0]\n",
    "avg_rxWeightedPhyRate = df_complete.select(avg('rxWeightedPhyRate')).collect()[0][0]\n",
    "\n",
    "\n",
    "new_df = df_complete.na.fill({\"rssi_percs_25\":avg_rssi_percs_25, \"rssi_percs_75\": avg_rssi_percs_75, \"txWeightedPhyRate\":avg_txWeightedPhyRate, \"rxWeightedPhyRate\":avg_rxWeightedPhyRate})"
   ]
  },
  {
   "cell_type": "code",
   "execution_count": 99,
   "id": "special-parliament",
   "metadata": {},
   "outputs": [],
   "source": [
    "pd_df_complete=df_complete.toPandas()"
   ]
  },
  {
   "cell_type": "markdown",
   "id": "competent-infrared",
   "metadata": {},
   "source": [
    "## Look at the RSSI levels (rssi_percs_25) and look at the spread of Tx and Rx weighted Phy Rate"
   ]
  },
  {
   "cell_type": "code",
   "execution_count": 100,
   "id": "atomic-platinum",
   "metadata": {},
   "outputs": [
    {
     "data": {
      "text/plain": [
       "<AxesSubplot:xlabel='rssi_percs_25'>"
      ]
     },
     "execution_count": 100,
     "metadata": {},
     "output_type": "execute_result"
    },
    {
     "data": {
      "image/png": "[encoded data removed]",
      "text/plain": [
       "<Figure size 432x288 with 1 Axes>"
      ]
     },
     "metadata": {
      "needs_background": "light"
     },
     "output_type": "display_data"
    }
   ],
   "source": [
    "pd_df_complete.plot(x='rssi_percs_25', y='txWeightedPhyRate', style='o')"
   ]
  },
  {
   "cell_type": "code",
   "execution_count": 101,
   "id": "temporal-celebration",
   "metadata": {},
   "outputs": [
    {
     "data": {
      "text/plain": [
       "<AxesSubplot:xlabel='rssi_percs_25'>"
      ]
     },
     "execution_count": 101,
     "metadata": {},
     "output_type": "execute_result"
    },
    {
     "data": {
      "image/png": "[encoded data removed]",
      "text/plain": [
       "<Figure size 432x288 with 1 Axes>"
      ]
     },
     "metadata": {
      "needs_background": "light"
     },
     "output_type": "display_data"
    }
   ],
   "source": [
    "pd_df_complete.plot(x='rssi_percs_25', y='rxWeightedPhyRate', style='o')"
   ]
  },
  {
   "cell_type": "markdown",
   "id": "stainless-thumb",
   "metadata": {},
   "source": [
    "## Produce a histogram (graph and CSV) for the average Tx and Rx Weighed Phy Rate between -85 and -65 dB in 1 dB steps"
   ]
  },
  {
   "cell_type": "code",
   "execution_count": 157,
   "id": "insured-element",
   "metadata": {
    "tags": []
   },
   "outputs": [],
   "source": [
    "new_list = []\n",
    "\n",
    "for i in range(-85,-64):\n",
    "    new_dict = {}\n",
    "    new_dict['rssi_percs_25'] = i\n",
    "    new_dict['rxWeightedPhyRate'] = df_complete.filter(df_complete[\"rssi_percs_25\"] == i).agg({\"rxWeightedPhyRate\":\"avg\"}).collect()[0][0]\n",
    "    new_dict['txWeightedPhyRate'] = df_complete.filter(df_complete[\"rssi_percs_25\"] == i).agg({\"txWeightedPhyRate\":\"avg\"}).collect()[0][0]\n",
    "    \n",
    "    new_list.append(new_dict)\n",
    "\n"
   ]
  },
  {
   "cell_type": "code",
   "execution_count": 145,
   "id": "approximate-execution",
   "metadata": {},
   "outputs": [],
   "source": [
    "histogram_df = pd.DataFrame(new_list)"
   ]
  },
  {
   "cell_type": "markdown",
   "id": "korean-topic",
   "metadata": {},
   "source": [
    "### Histogram"
   ]
  },
  {
   "cell_type": "code",
   "execution_count": 166,
   "id": "regional-globe",
   "metadata": {},
   "outputs": [
    {
     "data": {
      "text/plain": [
       "Text(0, 0.5, 'Tx Weighted Phy Rate')"
      ]
     },
     "execution_count": 166,
     "metadata": {},
     "output_type": "execute_result"
    },
    {
     "data": {
      "image/png": "[encoded data removed]",
      "text/plain": [
       "<Figure size 432x288 with 2 Axes>"
      ]
     },
     "metadata": {
      "needs_background": "light"
     },
     "output_type": "display_data"
    }
   ],
   "source": [
    "fig, axs = plt.subplots(1, 2, sharey=True, tight_layout=True)\n",
    "\n",
    "axs[0].hist(histogram_df.rssi_percs_25, weights=histogram_df.rxWeightedPhyRate, bins=21)\n",
    "axs[0].set_xlabel(\"RSSI\")\n",
    "axs[0].set_ylabel(\"Rx Weighted Phy Rate\")\n",
    "axs[1].hist(histogram_df.rssi_percs_25, weights=histogram_df.txWeightedPhyRate, bins=21)\n",
    "axs[1].set_xlabel(\"RSSI\")\n",
    "axs[1].set_ylabel(\"Tx Weighted Phy Rate\")"
   ]
  },
  {
   "cell_type": "markdown",
   "id": "demographic-advocacy",
   "metadata": {},
   "source": [
    "### Genarated CSV"
   ]
  },
  {
   "cell_type": "code",
   "execution_count": 156,
   "id": "proof-thought",
   "metadata": {},
   "outputs": [],
   "source": [
    "histogram_df.to_csv(\"histogram_data.csv\", index=False)"
   ]
  },
  {
   "cell_type": "markdown",
   "id": "informational-excitement",
   "metadata": {},
   "source": [
    "# Step 2 - Evaluate RSSI threshold"
   ]
  },
  {
   "cell_type": "markdown",
   "id": "minimal-fancy",
   "metadata": {},
   "source": [
    "### Using the client stats sample data provided to you calculate what % of devices are connected to 2.4 GHz and 5 GHz"
   ]
  },
  {
   "cell_type": "code",
   "execution_count": 78,
   "id": "copyrighted-domain",
   "metadata": {},
   "outputs": [
    {
     "name": "stdout",
     "output_type": "stream",
     "text": [
      "44.92% of devices are  connected to 2.4 GHz network\n",
      "55.08% of devices are  connected to 5 GHz network\n"
     ]
    }
   ],
   "source": [
    "total_count = new_df.count()\n",
    "\n",
    "device_2_4 = new_df.filter(col(\"freq_band\") == \"2.4G\").count()\n",
    "device_2_4\n",
    "\n",
    "device_5 = new_df.filter(col(\"freq_band\") == \"5G\").count()\n",
    "device_5\n",
    "\n",
    "percent_2_4_device = round((device_2_4/total_count)*100,2)\n",
    "\n",
    "percent_5_device = round((device_5/total_count)*100,2)\n",
    "\n",
    "print(\"{0}% of devices are  connected to 2.4 GHz network\".format(str(percent_2_4_device)))\n",
    "print(\"{0}% of devices are  connected to 5 GHz network\".format(str(percent_5_device)))"
   ]
  },
  {
   "cell_type": "code",
   "execution_count": 88,
   "id": "manual-orientation",
   "metadata": {},
   "outputs": [],
   "source": [
    "new_df = new_df.withColumn('freq_band', when((new_df.rssi_percs_25 >= -60) & (new_df.freq_band == \"2.4G\"), \"5G\")\\\n",
    "                  .when((new_df.rssi_percs_25 <= -75) & (new_df.freq_band == \"5G\"), \"2.4G\")\\\n",
    "                  .when((new_df.rssi_percs_25 > -75) & (new_df.freq_band == \"5G\"), \"5G\")\\\n",
    "                  .when((new_df.rssi_percs_25 < -60) & (new_df.freq_band == \"2.4G\"), \"2.4G\")\\\n",
    "                  .otherwise(new_df['freq_band']))"
   ]
  },
  {
   "cell_type": "markdown",
   "id": "amateur-cargo",
   "metadata": {},
   "source": [
    "### % of devices that will be on 2.4GHz and 5GHz using Band Steering Feature"
   ]
  },
  {
   "cell_type": "code",
   "execution_count": 90,
   "id": "sensitive-interim",
   "metadata": {},
   "outputs": [
    {
     "name": "stdout",
     "output_type": "stream",
     "text": [
      "29.65% of devices are  connected to 2.4 GHz network\n",
      "70.35% of devices are  connected to 5 GHz network\n"
     ]
    }
   ],
   "source": [
    "total_count_new = new_df.count()\n",
    "\n",
    "device_2_4_new = new_df.filter(col(\"freq_band\") == \"2.4G\").count()\n",
    "\n",
    "device_5_new = new_df.filter(col(\"freq_band\") == \"5G\").count()\n",
    "\n",
    "percent_2_4_device_new = round((device_2_4_new/total_count_new)*100,2)\n",
    "\n",
    "percent_5_device_new = round((device_5_new/total_count_new)*100,2)\n",
    "\n",
    "print(\"{0}% of devices are  connected to 2.4 GHz network\".format(str(percent_2_4_device_new)))\n",
    "print(\"{0}% of devices are  connected to 5 GHz network\".format(str(percent_5_device_new)))"
   ]
  },
  {
   "cell_type": "markdown",
   "id": "ecological-boating",
   "metadata": {},
   "source": [
    "### Using Band Steering Feature we will definetely gain more devices on 5G as shown above"
   ]
  },
  {
   "cell_type": "code",
   "execution_count": null,
   "id": "linear-louisiana",
   "metadata": {},
   "outputs": [],
   "source": []
  }
 ],
 "metadata": {
  "kernelspec": {
   "display_name": "Python 3",
   "language": "python",
   "name": "python3"
  },
  "language_info": {
   "codemirror_mode": {
    "name": "ipython",
    "version": 3
   },
   "file_extension": ".py",
   "mimetype": "text/x-python",
   "name": "python",
   "nbconvert_exporter": "python",
   "pygments_lexer": "ipython3",
   "version": "3.7.9"
  }
 },
 "nbformat": 4,
 "nbformat_minor": 5
}
