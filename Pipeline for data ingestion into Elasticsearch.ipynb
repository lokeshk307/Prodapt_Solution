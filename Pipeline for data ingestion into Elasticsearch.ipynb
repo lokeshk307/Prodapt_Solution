{
 "cells": [
  {
   "cell_type": "code",
   "execution_count": 4,
   "id": "pleasant-recognition",
   "metadata": {},
   "outputs": [],
   "source": [
    "import pandas as pd\n",
    "import numpy as np\n",
    "from elasticsearch import Elasticsearch\n",
    "from elasticsearch import helpers"
   ]
  },
  {
   "cell_type": "code",
   "execution_count": 5,
   "id": "realistic-soviet",
   "metadata": {},
   "outputs": [],
   "source": [
    "hist_data = pd.read_csv(\"histogram_data.csv\")"
   ]
  },
  {
   "cell_type": "code",
   "execution_count": 6,
   "id": "flush-measure",
   "metadata": {},
   "outputs": [],
   "source": [
    "def createIndex(es,indexName):\n",
    "    mapping={\n",
    "  \"mappings\": {\n",
    "    \"_doc\": {\n",
    "      \"properties\": {\n",
    "        \"rssi_percs_25\": {\n",
    "          \"type\": \"long\"\n",
    "        },\n",
    "        \"rxWeightedPhyRate\": {\n",
    "          \"type\": \"long\"\n",
    "        },\n",
    "        \"txWeightedPhyRate\": {\n",
    "          \"type\": \"long\"\n",
    "        }\n",
    "      }\n",
    "    }\n",
    "  }\n",
    "}\n",
    "    \n",
    "    created=es.indices.create(index=indexName, body=mapping, include_type_name=True)\n",
    "    \n",
    "    return created\n"
   ]
  },
  {
   "cell_type": "code",
   "execution_count": 7,
   "id": "numeric-garbage",
   "metadata": {},
   "outputs": [],
   "source": [
    "def ingestData(datadict,es,indexName,doc_type):\n",
    "    global count_Path\n",
    "    documents = []\n",
    "    for row in datadict:\n",
    "        info = {}\n",
    "        info[\"_index\"] = indexName\n",
    "        info[\"_type\"] = doc_type\n",
    "        info[\"_source\"] = row\n",
    "        doc = info\n",
    "        documents.append(doc)\n",
    "    try:\n",
    "        helpers_response=helpers.bulk(es, documents,raise_on_error=False)\n",
    "        print(helpers_response)\n",
    "    except:\n",
    "        print(\"***error chunk****\")"
   ]
  },
  {
   "cell_type": "code",
   "execution_count": 9,
   "id": "canadian-conditions",
   "metadata": {},
   "outputs": [
    {
     "name": "stdout",
     "output_type": "stream",
     "text": [
      "(21, [])\n"
     ]
    }
   ],
   "source": [
    "index_name = 'prodapt_hist_data'\n",
    "es = Elasticsearch([{'host': 'localhost', 'port': 9200,'timeout': 3000}])\n",
    "index = index_name\n",
    "createIndex(es,index)\n",
    "data_dict = hist_data.T.to_dict().values()\n",
    "res = [ele for ele in ({key: val for key, val in sub.items() if val} for sub in data_dict) if ele]\n",
    "ingestData(res,es,index_name,'_doc')"
   ]
  },
  {
   "cell_type": "code",
   "execution_count": null,
   "id": "emotional-inspection",
   "metadata": {},
   "outputs": [],
   "source": []
  },
  {
   "cell_type": "code",
   "execution_count": null,
   "id": "suspected-correction",
   "metadata": {},
   "outputs": [],
   "source": []
  },
  {
   "cell_type": "code",
   "execution_count": null,
   "id": "comic-lesson",
   "metadata": {},
   "outputs": [],
   "source": []
  }
 ],
 "metadata": {
  "kernelspec": {
   "display_name": "Python 3",
   "language": "python",
   "name": "python3"
  },
  "language_info": {
   "codemirror_mode": {
    "name": "ipython",
    "version": 3
   },
   "file_extension": ".py",
   "mimetype": "text/x-python",
   "name": "python",
   "nbconvert_exporter": "python",
   "pygments_lexer": "ipython3",
   "version": "3.7.9"
  }
 },
 "nbformat": 4,
 "nbformat_minor": 5
}
